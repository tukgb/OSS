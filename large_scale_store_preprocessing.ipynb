{
 "cells": [
  {
   "cell_type": "code",
   "execution_count": 3,
   "metadata": {},
   "outputs": [
    {
     "name": "stdout",
     "output_type": "stream",
     "text": [
      "   번호 개방서비스명    개방서비스아이디  개방자치단체코드                 관리번호       인허가일자 인허가취소일자  \\\n",
      "0   1  대규모점포  08_25_01_P   3450000  2000345001207500014  1997-06-30     NaN   \n",
      "1   2  대규모점포  08_25_01_P   3450000  2000345001207500015  1999-02-11     NaN   \n",
      "2   3  대규모점포  08_25_01_P   3450000  2000345001207500016  1999-06-12     NaN   \n",
      "3   4  대규모점포  08_25_01_P   3450000  2000345001207500017  1999-07-12     NaN   \n",
      "4   5  대규모점포  08_25_01_P   3450000  2000345001207500018  1999-10-05     NaN   \n",
      "\n",
      "   영업상태구분코드  영업상태명 상세영업상태코드  ...  도로명우편번호            사업장명  \\\n",
      "0         1  영업/정상        1  ...      NaN        코스트코 홀세일   \n",
      "1         1  영업/정상        1  ...      NaN           하나프러스   \n",
      "2         1  영업/정상        1  ...      NaN     대구기계공구상협동조합   \n",
      "3         1  영업/정상        1  ...  702-717  대구종합유통단지 전기재료관   \n",
      "4         1  영업/정상        1  ...      NaN         네오시티프라자   \n",
      "\n",
      "                최종수정시점 데이터갱신구분              데이터갱신일자       업태구분명  \\\n",
      "0  2015-12-02 09:53:07       I  2018-08-31 23:59:59        대형마트   \n",
      "1  2007-07-07 12:21:29       I  2018-08-31 23:59:59  그 밖의 대규모점포   \n",
      "2  2019-04-16 10:22:35       U  2019-04-18 02:40:00          시장   \n",
      "3  2020-07-17 10:18:38       U  2020-07-19 02:40:00  그 밖의 대규모점포   \n",
      "4  2008-04-02 09:17:17       I  2018-08-31 23:59:59          시장   \n",
      "\n",
      "   좌표정보x(epsg5174) 좌표정보y(epsg5174)  점포구분명 Unnamed: 29  \n",
      "0    346013.651465   268532.189936  대규모점포         NaN  \n",
      "1    341722.529953   266512.649171    NaN         NaN  \n",
      "2    344912.358902   268253.830253  대규모점포         NaN  \n",
      "3    345062.754182   268408.951404  대규모점포         NaN  \n",
      "4    339707.015975   271331.088251    NaN         NaN  \n",
      "\n",
      "[5 rows x 30 columns]\n"
     ]
    }
   ],
   "source": [
    "import pandas as pd\n",
    "\n",
    "df = pd.read_csv('대규모점포정보.csv', encoding='cp949')\n",
    "print(df.head())"
   ]
  },
  {
   "cell_type": "code",
   "execution_count": 4,
   "metadata": {},
   "outputs": [
    {
     "data": {
      "text/plain": [
       "array(['영업/정상', '휴업', '폐업', '취소/말소/만료/정지/중지'], dtype=object)"
      ]
     },
     "execution_count": 4,
     "metadata": {},
     "output_type": "execute_result"
    }
   ],
   "source": [
    "df['영업상태명'].unique()"
   ]
  },
  {
   "cell_type": "code",
   "execution_count": 5,
   "metadata": {},
   "outputs": [
    {
     "name": "stdout",
     "output_type": "stream",
     "text": [
      "      도로명우편번호               사업장명       업태구분명  좌표정보x(epsg5174)  좌표정보y(epsg5174)\n",
      "0         NaN           코스트코 홀세일        대형마트    346013.651465    268532.189936\n",
      "1         NaN              하나프러스  그 밖의 대규모점포    341722.529953    266512.649171\n",
      "2         NaN        대구기계공구상협동조합          시장    344912.358902    268253.830253\n",
      "3     702-717     대구종합유통단지 전기재료관  그 밖의 대규모점포    345062.754182    268408.951404\n",
      "4         NaN            네오시티프라자          시장    339707.015975    271331.088251\n",
      "...       ...                ...         ...              ...              ...\n",
      "4131      NaN                빅마트        대형마트    190571.312577    180762.465501\n",
      "4132      NaN  (사)한국수산업경영인보령시연합회  그 밖의 대규모점포    155664.029856    314155.428629\n",
      "4133      NaN  (사)한국수산업경영인보령시연합회  그 밖의 대규모점포    155664.029856    314155.428629\n",
      "4134      NaN            (주)세계유통  그 밖의 대규모점포              NaN              NaN\n",
      "4135      NaN                애플존        대형마트    282066.471631    387630.151702\n",
      "\n",
      "[2997 rows x 5 columns]\n"
     ]
    }
   ],
   "source": [
    "large_market_info = df[df['영업상태명'] == '영업/정상'][\n",
    "    ['도로명우편번호', '사업장명', '업태구분명', '좌표정보x(epsg5174)', '좌표정보y(epsg5174)']\n",
    "]\n",
    "\n",
    "print(large_market_info)"
   ]
  },
  {
   "cell_type": "code",
   "execution_count": 6,
   "metadata": {},
   "outputs": [
    {
     "data": {
      "text/plain": [
       "array(['대형마트', '그 밖의 대규모점포', '시장', nan, '복합쇼핑몰', '쇼핑센터', '구분없음', '백화점',\n",
       "       '전문점'], dtype=object)"
      ]
     },
     "execution_count": 6,
     "metadata": {},
     "output_type": "execute_result"
    }
   ],
   "source": [
    "df['업태구분명'].unique()"
   ]
  },
  {
   "cell_type": "code",
   "execution_count": 7,
   "metadata": {},
   "outputs": [
    {
     "name": "stdout",
     "output_type": "stream",
     "text": [
      "      도로명우편번호                 사업장명 업태구분명  좌표정보x(epsg5174)  좌표정보y(epsg5174)\n",
      "31    301-050      이랜드리테일 NC 중앙로역점   백화점    238117.420455    314301.953643\n",
      "39        NaN                 대전코아   백화점              NaN              NaN\n",
      "40        NaN               백화점 세이   백화점    236652.169401    313435.556286\n",
      "103       NaN         (주)현대백화점 울산점   백화점    411768.040749    229164.489593\n",
      "107   680-746            롯데백화점 울산점   백화점    412001.966655    229039.563308\n",
      "...       ...                  ...   ...              ...              ...\n",
      "2797  135-948  SSG Food Market 백화점   백화점    203789.588128    446796.128300\n",
      "2813  135-724          (주)현대백화점 본점   백화점    202358.505687    447232.955698\n",
      "2814  135-730          현대백화점 무역센터점   백화점    205210.358779    445154.422252\n",
      "2815  135-902          갤러리아백화점(서관)   백화점    203470.848439    447369.579852\n",
      "4047    54593              익산송원백화점   백화점              NaN              NaN\n",
      "\n",
      "[106 rows x 5 columns]\n"
     ]
    }
   ],
   "source": [
    "department_info = large_market_info[large_market_info['업태구분명'] == '백화점']\n",
    "\n",
    "print(department_info)"
   ]
  },
  {
   "cell_type": "code",
   "execution_count": 8,
   "metadata": {},
   "outputs": [],
   "source": [
    "department_info.to_csv('department_data.csv', index = False, encoding = 'utf-8-sig')"
   ]
  },
  {
   "cell_type": "code",
   "execution_count": null,
   "metadata": {},
   "outputs": [],
   "source": []
  }
 ],
 "metadata": {
  "kernelspec": {
   "display_name": "base",
   "language": "python",
   "name": "python3"
  },
  "language_info": {
   "codemirror_mode": {
    "name": "ipython",
    "version": 3
   },
   "file_extension": ".py",
   "mimetype": "text/x-python",
   "name": "python",
   "nbconvert_exporter": "python",
   "pygments_lexer": "ipython3",
   "version": "3.12.4"
  }
 },
 "nbformat": 4,
 "nbformat_minor": 2
}
